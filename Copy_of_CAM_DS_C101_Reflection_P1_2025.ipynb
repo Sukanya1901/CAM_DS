{
  "nbformat": 4,
  "nbformat_minor": 0,
  "metadata": {
    "colab": {
      "provenance": [],
      "collapsed_sections": [
        "LwR2eQZ8VszP",
        "vow84sVueCOp",
        "XXNjzj10eJFX",
        "MgR8VoTfeMhH"
      ],
      "include_colab_link": true
    },
    "kernelspec": {
      "name": "python3",
      "display_name": "Python 3"
    },
    "language_info": {
      "name": "python"
    }
  },
  "cells": [
    {
      "cell_type": "markdown",
      "metadata": {
        "id": "view-in-github",
        "colab_type": "text"
      },
      "source": [
        "<a href=\"https://colab.research.google.com/github/Sukanya1901/CAM_DS/blob/main/Copy_of_CAM_DS_C101_Reflection_P1_2025.ipynb\" target=\"_parent\"><img src=\"https://colab.research.google.com/assets/colab-badge.svg\" alt=\"Open In Colab\"/></a>"
      ]
    },
    {
      "cell_type": "markdown",
      "source": [
        "**First things first** - please go to 'File' and select 'Save a copy in Drive' so that you have your own version of this activity set up and ready to use.\n",
        "Remember to add the links to your own work once completed!"
      ],
      "metadata": {
        "id": "kBoaExyJVCGe"
      }
    },
    {
      "cell_type": "markdown",
      "source": [
        "# Welcome to Course 101: Applying statistics and core data science techniques in business.\n",
        "\n",
        "Throughout the course, you will learn to:\n",
        "\n",
        "1. Systematically analyse complex organisational challenges to enhance problem-solving skills and propose strategic solutions.\n",
        "2. Develop advanced critical and statistical thinking skills by identifying meaningful patterns in complex data.\n",
        "3. Evaluate and select statistical techniques appropriate to a solutions design approach.\n",
        "4. Synthesise and systematically implement techniques to enhance data representation and improve model performance.\n",
        "5. Critically select, evaluate and implement effective unsupervised learning techniques to design innovative solutions.\n",
        "\n",
        "This will be the index page for your portfolio. For each activity in the Course, you will need to save a copy of the provided template (available on the relevant Canvas page), complete it, and add the link to this index to direct your tutors, peers, and potential employers to your own work. We have added Activity titles as an example in Week 1. You will then link these to your own work.\n",
        "\n",
        "You will also complete reflections relating to each demonstration and activity throughout the course in this section of your portfolio.\n",
        "\n",
        "Here is a link to the [Orientation content](https://colab.research.google.com/drive/1bAE7vviDHiU1bQipsB5hFvF-IyCiPMdd?usp=sharing), if you need a recap on how to use Colab."
      ],
      "metadata": {
        "id": "3k2rPGoAHyqU"
      }
    },
    {
      "cell_type": "markdown",
      "source": [],
      "metadata": {
        "id": "bFvYOQIL1H4k"
      }
    },
    {
      "cell_type": "markdown",
      "source": [
        "# Week 1: Developing commercial awareness through statistical thinking\n",
        "\n",
        "**Throughout the week, you will learn to:**\n",
        "1. Systematically analyse a range of organisational scenarios to identify key strategic issues.\n",
        "2. Develop advanced problem-solving skills by applying statistical thinking.\n",
        "3. Design effective solution paths through systematic critical thinking and problem-solving techniques.\n",
        "4. Critically compare and evaluate a range of solutions to design effective outcomes.\n"
      ],
      "metadata": {
        "id": "vDPdtpFWNfoV"
      }
    },
    {
      "cell_type": "markdown",
      "source": [
        "**Activity 1.1.5** Using statistical thinking to analyse and define a business problem from a given scenario.\n",
        "\n",
        "[Activity 1.1.5](https://github.com/Sukanya1901/CAM_DS/blob/main/Copy_of_CAM_DS__C101_Activity_1_1_5.ipynb)"
      ],
      "metadata": {
        "id": "d_UVXWrCI2Tt"
      }
    },
    {
      "cell_type": "markdown",
      "source": [
        "**Activity 1.2.3** Developing a hypothesis and presenting a proposed solution\n",
        "\n",
        "[Activity 1.2.3](https://github.com/Sukanya1901/CAM_DS/blob/main/Copy_of_CAM_DS_C101_Activity_1_2_3_.ipynb)"
      ],
      "metadata": {
        "id": "1eAXGgnONVCT"
      }
    },
    {
      "cell_type": "markdown",
      "source": [
        "**Activity 1.2.5** Using feature engineering as a problem-solving tool\n",
        "\n",
        "[Activity 1.2.5](https://github.com/Sukanya1901/CAM_DS/blob/main/Copy_of_CAM_DS_C101_Activity_1_2_5_.ipynb)"
      ],
      "metadata": {
        "id": "RPTM8qiC5DM3"
      }
    },
    {
      "cell_type": "markdown",
      "source": [
        "## Week 1 Reflection\n",
        "Now that you've completed Week 1, it's time to reflect on your learning.\n",
        "\n",
        "**Reflection prompts:**\n",
        "1. What was the most interesting part of this week's learning? Why?\n",
        "2. What did you find the most challenging? Why?\n",
        "3. What, so far, will be the most applicable to your current or future career? Why?\n",
        "\n",
        "> Type your reflection here:"
      ],
      "metadata": {
        "id": "HZB2RGibUe2h"
      }
    },
    {
      "cell_type": "markdown",
      "source": [
        "1. The most interesting part of this week's learning was realizing that developing a data science hypothesis is an exercise in identifying causal relationships within the data. It's not just about finding correlations, but about figuring out how one thing might directly influence another.\n",
        "2. I found the process of applying analytical thinking to unstructured data to be the most challenging part. Unstructured data is so messy, and it requires a lot of mental work to figure out how to clean it up and find patterns.\n",
        "3. The ability to combine data insights with market insight will be the most applicable skill for my career. A hypothesis that's only based on data is useful, but a hypothesis that also considers the real-world context of the market is truly valuable."
      ],
      "metadata": {
        "id": "Kwag9qfo-dui"
      }
    },
    {
      "cell_type": "markdown",
      "source": [
        "# Week 2: Applying advanced statistical techniques for data science\n",
        "\n",
        "**Throughout the week, you will learn to:**\n",
        "1. Develop proficiency in hypothesis testing using Python for data-driven decision-making.\n",
        "2. Investigate data systematically to identify causal links, account for biases, and assess confounding variables.\n",
        "3. Interpret statistical test results rigorously, identifying and addressing assumptions and limitations.\n",
        "4. Critically analyse outputs to evaluate predictive models, accurately interpreting relevant metrics to ensure generalisability.\n"
      ],
      "metadata": {
        "id": "LwR2eQZ8VszP"
      }
    },
    {
      "cell_type": "markdown",
      "source": [
        "  Insert your activity links here:"
      ],
      "metadata": {
        "id": "y8oyCTZVFILd"
      }
    },
    {
      "cell_type": "markdown",
      "source": [
        "## Week 2 Reflection\n",
        "Now that you have completed Week 2, it's time to reflect on your learning.\n",
        "\n",
        "**Reflection prompts:**\n",
        "1. What was the most interesting part of this week's learning? Why?\n",
        "2. What did you find the most challenging? Why?\n",
        "3. What, so far, will be the most applicable to your current or future career? Why?\n",
        "\n",
        "> Type your reflection here:"
      ],
      "metadata": {
        "id": "bzFa0EdG95e5"
      }
    },
    {
      "cell_type": "markdown",
      "source": [
        "# Week 3: Taking a critical approach to selecting statistical techniques\n",
        "\n",
        "**Throughout the week, you will learn to:**\n",
        "1. Analyse ethical issues in data science environments to advocate for appropriate solutions.\n",
        "2. Analyse diverse data characteristics to accurately apply parametric and non-parametric methods\n",
        "3. Critically compare and select appropriate statistical tests, ensuring robustness and accuracy in analysis"
      ],
      "metadata": {
        "id": "vow84sVueCOp"
      }
    },
    {
      "cell_type": "markdown",
      "source": [
        "Insert you activity links here:"
      ],
      "metadata": {
        "id": "zaQSgTNa-sFh"
      }
    },
    {
      "cell_type": "markdown",
      "source": [
        "## Week 3 Reflection\n",
        "Now that you have completed Week 3, it's time to reflect on your learning.\n",
        "\n",
        "**Reflection prompts:**\n",
        "1. What was the most interesting part of this week's learning? Why?\n",
        "2. What did you find the most challenging? Why?\n",
        "3. What, so far, will be the most applicable to your current or future career? Why?\n",
        "\n",
        "> Type your reflection here:"
      ],
      "metadata": {
        "id": "-lMWIw2yrEr9"
      }
    },
    {
      "cell_type": "markdown",
      "source": [
        "# Week 4: Engineering features and reducing dimensions\n",
        "\n",
        "**Throughout the week, you will learn to:**\n",
        "1. Systematically apply specialist methodological approaches to extract relevant features from diverse data sets.\n",
        "2. Tailor feature engineering methods to address specific data challenges, optimising feature representation for accurate analysis of complex problems.\n",
        "3. Synthesise and perform dimensionality reduction to effectively reduce data dimensions while retaining meaningful patterns.\n",
        "4. Critically identify and define the strengths and limitations of applying principal component analysis and t-SNE."
      ],
      "metadata": {
        "id": "XXNjzj10eJFX"
      }
    },
    {
      "cell_type": "markdown",
      "source": [
        "Insert you activity links here:"
      ],
      "metadata": {
        "id": "HcVu-qO43Dxu"
      }
    },
    {
      "cell_type": "markdown",
      "source": [
        "## Week 4 Reflection\n",
        "Now that you've completed Week 4, it's time to reflect on your learning.\n",
        "\n",
        "**Reflection prompts:**\n",
        "1. What was the most interesting part of this week's learning? Why?\n",
        "2. What did you find the most challenging? Why?\n",
        "3. What, so far, will be the most applicable to your current or future career? Why?\n",
        "\n",
        "> Type your reflection here:"
      ],
      "metadata": {
        "id": "4SjDBYe6aZ5T"
      }
    },
    {
      "cell_type": "markdown",
      "source": [
        "# Week 5: Detecting anomalies with unsupervised learning\n",
        "\n",
        "**Throughout the week, you will learn to:**\n",
        "1. Synthesise the concept of anomaly detection and define its importance in data science and organisational applications.\n",
        "2. Systematically select and apply statistical methods such as z-score and IQR to detect anomalies in complex data sets.\n",
        "3. Critically evaluate the effectiveness of ML methods to detect anomalies in complex data sets.\n",
        "4. Critically select and apply advanced anomaly detection principles, concepts, and approaches to create innovative solutions to a real-world organisational scenario."
      ],
      "metadata": {
        "id": "MgR8VoTfeMhH"
      }
    },
    {
      "cell_type": "markdown",
      "source": [
        "Insert you activity and mini-project links here:"
      ],
      "metadata": {
        "id": "s-sxbcECrRB-"
      }
    },
    {
      "cell_type": "markdown",
      "source": [
        "## Week 5 Reflection\n",
        "Now that you have completed Week 5, it's time to reflect on your learning.\n",
        "\n",
        "**Reflection prompts:**\n",
        "1. What was the most interesting part of this week's learning? Why?\n",
        "2. What did you find the most challenging? Why?\n",
        "3. What, so far, will be the most applicable to your current or future career? Why?\n",
        "\n",
        "> Type your reflection here:"
      ],
      "metadata": {
        "id": "_Ow0m9YOrQ95"
      }
    },
    {
      "cell_type": "markdown",
      "source": [
        "# Week 6: Performing clustering with unsupervised learning\n",
        "\n",
        "**Throughout the week, you will learn to:**\n",
        "1. Synthesise and apply K-means clustering, including logic, partitioning methods, and the optimal number of clusters.\n",
        "2. Synthesise and apply the principles of Hierarchical Clustering, including agglomerative approaches, distance metrics, and cluster evaluation.\n",
        "3. Critically select and apply advanced clustering principles, concepts, and approaches to create innovative solutions to a real-world organisational scenario.\n"
      ],
      "metadata": {
        "id": "7Qn6X31DeQk3"
      }
    },
    {
      "cell_type": "markdown",
      "source": [
        "Insert your activity and mini-project links here:"
      ],
      "metadata": {
        "id": "92P2atma48-N"
      }
    },
    {
      "cell_type": "markdown",
      "source": [
        "## Week 6 Reflection\n",
        "Now that you have completed Week 6, it's time to reflect on your learning.\n",
        "\n",
        "**Reflection prompts:**\n",
        "1. What was the most interesting part of this week's learning? Why?\n",
        "2. What did you find the most challenging? Why?\n",
        "3. What, so far, will be the most applicable to your current or future career? Why?\n",
        "\n",
        "> Type your reflection here:"
      ],
      "metadata": {
        "id": "dDUN96chrUtF"
      }
    },
    {
      "cell_type": "markdown",
      "source": [
        "# Course 101: Reflection\n",
        "Now that you have completed Course 101, it's time to reflect on your learning.\n",
        "\n",
        "**Reflection prompts:**\n",
        "1. What are the key concepts and skills you have learned in this course? Why?\n",
        "2. How do you foresee applying the concepts and skills you acquired in real-world situations or future endeavors? Why?\n",
        "3. Can you identify any challenges you faced during this course and explain how you overcame them?\n",
        "4. How has this course influenced your perspective or understanding of applying statistics and core data science techniques in business? Why?\n",
        "\n",
        "> Type your reflection here:\n",
        "\n",
        "\n"
      ],
      "metadata": {
        "id": "UHxwST0S6UcQ"
      }
    }
  ]
}