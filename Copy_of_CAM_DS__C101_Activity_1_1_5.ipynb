{
  "cells": [
    {
      "cell_type": "markdown",
      "metadata": {
        "id": "view-in-github",
        "colab_type": "text"
      },
      "source": [
        "<a href=\"https://colab.research.google.com/github/Sukanya1901/trial/blob/main/Copy_of_CAM_DS__C101_Activity_1_1_5.ipynb\" target=\"_parent\"><img src=\"https://colab.research.google.com/assets/colab-badge.svg\" alt=\"Open In Colab\"/></a>"
      ]
    },
    {
      "cell_type": "markdown",
      "source": [
        "**First things first** - please go to 'File' and select 'Save a copy in Drive' so that you have your own version of this activity set up and ready to use.\n",
        " Remember to update your Course 1 notebook with links to your own work once completed!"
      ],
      "metadata": {
        "id": "QXcaLNTZYOhZ"
      }
    },
    {
      "cell_type": "markdown",
      "source": [
        "# Activity 1.1.5: Using statistical thinking to analyse and define a business problem from a given scenario\n",
        "\n",
        "## Scenario\n",
        "**Communik8** is a telecommunications company with both online and physical stores. It provides mobile contracts and sells handsets. Recently, the company has experienced a sizeable reduction in new customers and a decrease in the retention of existing customers.\n",
        "\n",
        "With the primary goal of improving business performance, the company needs to identify critical reasons for this recent decline. The company would like to make sense of its customer data and transform it into actionable insights.\n",
        "\n",
        "The management team at Communik8 has provided recent customer feedback to your team of data scientists and would like initial feedback on the main issues that can be identified from this data.\n",
        "\n",
        "## Objective\n",
        "The goal is to explore and analyse an organisational scenario to identify key problems.\n",
        "\n",
        "## Assessment criteria\n",
        "By completing this activity, you will be able to provide evidence that you can:\n",
        "* Note common themes and sentiments expressed by customers without performing any in-depth analysis.\n",
        "* Formulate your own business problem statement.\n",
        "\n",
        "\n",
        "## Activity guide\n",
        "1. Analyse the customer comments and categorise the comments into themes (e.g.  customer service, delivery, billing and payment, and so on).\n",
        "2. Using the themes you identified as guidance, define the problems Communik8's customers are experiencing (e.g. delays in delivery, website functionality, and so on).\n",
        "3. Identify how solving these problems will help the company achieve its objectives and goals and outline the consequences of not achieving these goals (e.g. improved customer satisfaction, customer retention, loss of revenue, and so on).\n",
        "4. Write a problem statement based on the themes, problems, and solutions you identified.\n",
        "\n",
        "* What challenges did you face when completing this activity?\n",
        "* In one sentence, what was your key learning from this activity?"
      ],
      "metadata": {
        "id": "ltwXKT0TCvf6"
      }
    },
    {
      "cell_type": "markdown",
      "source": [
        "> Start your activity here. Select the pen from the toolbar to add your entry."
      ],
      "metadata": {
        "id": "qE2gU4Q1an1j"
      }
    },
    {
      "cell_type": "markdown",
      "source": [
        "# Reflect\n",
        "\n",
        "Write a brief paragraph highlighting your process and the rationale to showcase critical thinking and problem-solving.\n",
        "\n",
        "> Select the pen from the toolbar to add your entry. When you have completed the activity, remember to update the link on your contents page to point to your completed Notebook."
      ],
      "metadata": {
        "id": "txtht85QD0Zq"
      }
    },
    {
      "cell_type": "markdown",
      "source": [
        "CATEGORIES OF COMMENTS:\n",
        "\n",
        "\n",
        "1. Customer Service Failures: Rude staff, long delays in telephone calls, useless guidance, unaddressed complaint emails\n",
        "2. Contract Disputes: Serious breakdown in services related to contracts\n",
        "3. Inadequate Services: Delays in product delivery as well as unreliable services\n",
        "4. Poor Online Service: Unhelpful website and irrelevant chatbot response.\n",
        "\n",
        "HOW SOLUTIONS CAN IMPACT BUSINESS:\n",
        "\n",
        "1. Improved Customer Satisfaction\n",
        "2. Increase in New Customers\n",
        "3. Increase in Revenue\n",
        "4. Edge against competitors\n",
        "\n",
        "CONSEQUENCES OF NOT ACHIEVEING THESE GOALS:\n",
        "\n",
        "1. Decline in Brand Reputation\n",
        "2. Revenue Loss\n",
        "3. Decline in New Customers and Low Retension of Old Customers\n",
        "4. Legal and Regulatory Penalties\n",
        "\n",
        "Communik8 is experiencing a decline in customer acquisition and retention due to persistent issues with poor customer service, confusing billing, and unreliable network performance. This has resulted in a negative brand reputation and a continuous loss of market share and revenue. Without actionable insights derived from customer feedback to address these root causes, Communik8 will be unable to reverse this trend and achieve its business performance goals.\n",
        "\n",
        "Challenges I faced:\n",
        "Categorising unstructured data\n",
        "\n",
        "Key Learning from this Activity:\n",
        "Customer feedback, even when unstructured, is invaluable for identifying the root causes of business problems."
      ],
      "metadata": {
        "id": "pIz0PuX98kmJ"
      }
    }
  ],
  "metadata": {
    "colab": {
      "provenance": [],
      "include_colab_link": true
    },
    "kernelspec": {
      "display_name": "Python 3",
      "name": "python3"
    }
  },
  "nbformat": 4,
  "nbformat_minor": 0
}